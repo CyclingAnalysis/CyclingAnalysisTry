{
 "cells": [
  {
   "cell_type": "code",
   "execution_count": 1,
   "metadata": {},
   "outputs": [],
   "source": [
    "## Importing Necessary Modules \n",
    "\n",
    "from bs4 import BeautifulSoup\n",
    "import pandas as pd\n",
    "import requests"
   ]
  },
  {
   "cell_type": "code",
   "execution_count": 2,
   "metadata": {},
   "outputs": [],
   "source": [
    "## getting the appropriate website parsed into hmtl\n",
    "### Defining a function which takes in a url and outputs soup\n",
    "def get_soup(url):\n",
    "    response = requests.get(url)\n",
    "    soup = BeautifulSoup(response.content, 'html.parser')\n",
    "    return(soup)\n"
   ]
  },
  {
   "cell_type": "code",
   "execution_count": 75,
   "metadata": {},
   "outputs": [],
   "source": [
    "def extract_result(url):\n",
    "    \n",
    "    #soupify\n",
    "    soup = get_soup(url)\n",
    "    \n",
    "    headers = []\n",
    "    data = []\n",
    "    \n",
    "    #find rows\n",
    "    rows = soup.find_all('tr')\n",
    "    \n",
    "    #generate header\n",
    "    header_row = rows[0]\n",
    "    for header in header_row.find_all('th'):\n",
    "        headers.append(header) \n",
    "        data.append([])\n",
    "    \n",
    "    #generate rows\n",
    "    for data_row in rows[1:]:\n",
    "        row = data_row.find_all('td')\n",
    "        for i in range(len(row)):\n",
    "            if len(row) != len(data):\n",
    "                continue\n",
    "            else:\n",
    "                data[i].append(row[i].text.strip())\n",
    "    \n",
    "    #put into dataframe\n",
    "    data_dict = {}\n",
    "    for i in range(len(headers)):\n",
    "        data_dict[headers[i]] = data[i]\n",
    "    df = pd.DataFrame(data_dict)\n",
    "    return(df)\n"
   ]
  },
  {
   "cell_type": "code",
   "execution_count": 77,
   "metadata": {},
   "outputs": [
    {
     "name": "stdout",
     "output_type": "stream",
     "text": [
      "    [Rnk] [GC] [Timelag] [BIB] [H2H] [Specialty]  \\\n",
      "0       1    2     +7:29    11           Climber   \n",
      "1       2    8    +16:09    95           Climber   \n",
      "2       3    1     +0:00     1                GC   \n",
      "3       4    4    +12:23   161           Climber   \n",
      "4       5    3    +10:56    19           Climber   \n",
      "..    ...  ...       ...   ...   ...         ...   \n",
      "296   146  146         -   144                TT   \n",
      "297   147  148        ▲1   185           Classic   \n",
      "298   148  149        ▲1   194           Classic   \n",
      "299   149  150        ▲1   192            Sprint   \n",
      "300   150  151        ▲1    58            Sprint   \n",
      "\n",
      "                                    [Rider] [Age]                 [Team]  \\\n",
      "0           POGAČAR Tadej UAE Team Emirates    24      UAE Team Emirates   \n",
      "1              GALL Felix AG2R Citroën Team    25      AG2R Citroën Team   \n",
      "2              VINGEGAARD Jonas Jumbo-Visma    26            Jumbo-Visma   \n",
      "3              YATES Simon Team Jayco AlUla    30       Team Jayco AlUla   \n",
      "4              YATES Adam UAE Team Emirates    30      UAE Team Emirates   \n",
      "..                                      ...   ...                    ...   \n",
      "296     EDMONDSON Alex Team dsm - firmenich    29   Team dsm - firmenich   \n",
      "297             FRISON Frederik Lotto Dstny    30            Lotto Dstny   \n",
      "298  FEDOROV Yevgeniy Astana Qazaqstan Team    23  Astana Qazaqstan Team   \n",
      "299          BOL Cees Astana Qazaqstan Team    27  Astana Qazaqstan Team   \n",
      "300        MØRKØV Michael Soudal Quick-Step    38      Soudal Quick-Step   \n",
      "\n",
      "    [UCI] [Pnt]              []      [Time]  \n",
      "0     210   100             10″  3:27:1810″  \n",
      "1     150    70              6″    ,,0:006″  \n",
      "2     110    50              4″    ,,0:004″  \n",
      "3      90    40                      ,,0:00  \n",
      "4      70    32                    0:070:07  \n",
      "..    ...   ...             ...         ...  \n",
      "296              5:44:395:44:39          ..  \n",
      "297              5:54:425:54:42          ..  \n",
      "298              5:56:375:56:37          ..  \n",
      "299              5:57:445:57:44          ..  \n",
      "300              6:07:116:07:11          ..  \n",
      "\n",
      "[301 rows x 13 columns]\n"
     ]
    }
   ],
   "source": [
    "all_stages_data = {}\n",
    "stage_number = 1\n",
    "url_basic = 'https://www.procyclingstats.com/race/tour-de-france/2023/stage-'\n",
    "for stage_number in range(1,22):\n",
    "    url = url_basic + str(stage_number)\n",
    "    all_stages_data[str(stage_number)] = extract_result(url)\n",
    "\n",
    "    \n",
    "print(all_stages_data['20'])"
   ]
  },
  {
   "cell_type": "code",
   "execution_count": 73,
   "metadata": {},
   "outputs": [
    {
     "name": "stdout",
     "output_type": "stream",
     "text": [
      "{'Date': '22 July 2023', 'Start time': '13:45 ', 'Avg. speed winner': '38.64 km/h', 'Race category': 'ME - Men Elite', 'Distance': '133.5 km', 'Points scale': 'GT.A.Stage', 'UCI scale': 'UCI.WR.GT.A.Stage', 'Parcours type': '', 'ProfileScore': '303', 'Vertical meters': '3471', 'Departure': 'Belfort', 'Arrival': 'Le Markstein', 'Race ranking': '1', 'Startlist quality score': '1584', 'Won how': 'Sprint of 5 riders', 'Avg. temperature': '22 °C'}\n"
     ]
    }
   ],
   "source": [
    "def get_race_info(url):\n",
    "    \n",
    "    soup = get_soup(url)\n",
    "    \n",
    "    ul_elements = soup.find('ul', class_='infolist')\n",
    "    ul_points = ul_elements.find_all('li')\n",
    "    \n",
    "    results = {}\n",
    "    \n",
    "    for point in ul_points:\n",
    "        divs = point.find_all('div')\n",
    "        \n",
    "        key = divs[0].text.strip().replace(':','')\n",
    "        val = divs[1].text\n",
    "        \n",
    "        results[key] = val\n",
    "\n",
    "    return results\n",
    "\n",
    "print(get_race_info('https://www.procyclingstats.com/race/tour-de-france/2023/stage-20'))"
   ]
  }
 ],
 "metadata": {
  "kernelspec": {
   "display_name": "Python 3 (ipykernel)",
   "language": "python",
   "name": "python3"
  },
  "language_info": {
   "codemirror_mode": {
    "name": "ipython",
    "version": 3
   },
   "file_extension": ".py",
   "mimetype": "text/x-python",
   "name": "python",
   "nbconvert_exporter": "python",
   "pygments_lexer": "ipython3",
   "version": "3.10.9"
  }
 },
 "nbformat": 4,
 "nbformat_minor": 2
}
