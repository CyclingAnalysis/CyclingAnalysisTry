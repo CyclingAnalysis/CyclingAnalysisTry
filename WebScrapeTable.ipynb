{
 "cells": [
  {
   "cell_type": "code",
   "execution_count": 1,
   "metadata": {},
   "outputs": [],
   "source": [
    "## Importing Necessary Modules \n",
    "\n",
    "from bs4 import BeautifulSoup\n",
    "import pandas as pd\n",
    "import requests"
   ]
  },
  {
   "cell_type": "code",
   "execution_count": 2,
   "metadata": {},
   "outputs": [],
   "source": [
    "## getting the appropriate website parsed into hmtl\n",
    "### Defining a function which takes in a url and outputs soup\n",
    "def get_soup(url):\n",
    "    response = requests.get(url)\n",
    "    soup = BeautifulSoup(response.content, 'html.parser')\n",
    "    return(soup)\n"
   ]
  },
  {
   "cell_type": "code",
   "execution_count": 89,
   "metadata": {},
   "outputs": [],
   "source": [
    "#format url based off the race \n",
    "def format_url(race = 'tour-de-france', year = 2023, stage = None):\n",
    "    \n",
    "    url_basic = 'https://www.procyclingstats.com/race/{}/{}'\n",
    "    \n",
    "    if stage:\n",
    "        return url_basic.format(race, year) + '/stage-{}'.format(stage)\n",
    "    \n",
    "    return url_basic.format(race, year)\n"
   ]
  },
  {
   "cell_type": "code",
   "execution_count": 90,
   "metadata": {},
   "outputs": [],
   "source": [
    "def extract_result(url):\n",
    "    \n",
    "    #soupify\n",
    "    soup = get_soup(url)\n",
    "    \n",
    "    headers = []\n",
    "    data = []\n",
    "    \n",
    "    #find rows\n",
    "    rows = soup.find_all('tr')\n",
    "    \n",
    "    #generate header\n",
    "    header_row = rows[0]\n",
    "    for header in header_row.find_all('th'):\n",
    "        headers.append(header) \n",
    "        data.append([])\n",
    "    \n",
    "    #generate rows\n",
    "    for data_row in rows[1:]:\n",
    "        row = data_row.find_all('td')\n",
    "        for i in range(len(row)):\n",
    "            if len(row) != len(data):\n",
    "                continue\n",
    "            else:\n",
    "                data[i].append(row[i].text.strip())\n",
    "    \n",
    "    #put into dataframe\n",
    "    data_dict = {}\n",
    "    for i in range(len(headers)):\n",
    "        data_dict[headers[i]] = data[i]\n",
    "    df = pd.DataFrame(data_dict)\n",
    "    return(df)\n"
   ]
  },
  {
   "cell_type": "code",
   "execution_count": null,
   "metadata": {},
   "outputs": [],
   "source": [
    "all_stages_data = {}\n",
    "stage_number = 1\n",
    "url_basic = 'https://www.procyclingstats.com/race/tour-de-france/2023/stage-'\n",
    "for stage_number in range(1,22):\n",
    "    url = url_basic + str(stage_number)\n",
    "    all_stages_data[str(stage_number)] = extract_result(url)\n",
    "\n",
    "    \n",
    "print(all_stages_data['20'])"
   ]
  },
  {
   "cell_type": "code",
   "execution_count": null,
   "metadata": {},
   "outputs": [],
   "source": [
    "def get_race_info(url):\n",
    "    \n",
    "    soup = get_soup(url)\n",
    "    \n",
    "    ul_elements = soup.find('ul', class_='infolist')\n",
    "    ul_points = ul_elements.find_all('li')\n",
    "    \n",
    "    results = {}\n",
    "    \n",
    "    for point in ul_points:\n",
    "        divs = point.find_all('div')\n",
    "        \n",
    "        key = divs[0].text.strip().replace(':','')\n",
    "        val = divs[1].text\n",
    "        \n",
    "        results[key] = val\n",
    "\n",
    "    return results\n",
    "\n",
    "url = format_url('tour-de-france', 2021, 8)\n",
    "print(get_race_info(url))"
   ]
  },
  {
   "cell_type": "code",
   "execution_count": null,
   "metadata": {},
   "outputs": [],
   "source": []
  }
 ],
 "metadata": {
  "kernelspec": {
   "display_name": "Python 3 (ipykernel)",
   "language": "python",
   "name": "python3"
  },
  "language_info": {
   "codemirror_mode": {
    "name": "ipython",
    "version": 3
   },
   "file_extension": ".py",
   "mimetype": "text/x-python",
   "name": "python",
   "nbconvert_exporter": "python",
   "pygments_lexer": "ipython3",
   "version": "3.10.9"
  }
 },
 "nbformat": 4,
 "nbformat_minor": 2
}
